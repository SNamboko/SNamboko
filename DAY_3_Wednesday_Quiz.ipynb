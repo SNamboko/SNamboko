{
  "nbformat": 4,
  "nbformat_minor": 0,
  "metadata": {
    "colab": {
      "name": "DAY 3 Wednesday : Quiz",
      "provenance": [],
      "collapsed_sections": [],
      "authorship_tag": "ABX9TyM1h5Gxs2xY7wO+oL58MIFX",
      "include_colab_link": true
    },
    "kernelspec": {
      "name": "python3",
      "display_name": "Python 3"
    },
    "language_info": {
      "name": "python"
    }
  },
  "cells": [
    {
      "cell_type": "markdown",
      "metadata": {
        "id": "view-in-github",
        "colab_type": "text"
      },
      "source": [
        "<a href=\"https://colab.research.google.com/github/SNamboko/SNamboko/blob/main/DAY_3_Wednesday_Quiz.ipynb\" target=\"_parent\"><img src=\"https://colab.research.google.com/assets/colab-badge.svg\" alt=\"Open In Colab\"/></a>"
      ]
    },
    {
      "cell_type": "markdown",
      "source": [
        "### **1. Write a Python program to find those numbers which are divisible by 7 and multiple of 5, between 1500 and 2700 (both included).**"
      ],
      "metadata": {
        "id": "iIKeDIVHS8wj"
      }
    },
    {
      "cell_type": "code",
      "source": [
        "first_number = int(input(\"Enter 1st number: \"))\n",
        "f = first_number\n",
        "second_number = int(input(\"Enter 2nd number\"))\n",
        "s = second_number\n",
        "\n",
        "for i in range (f,s, +1):\n",
        "  if (i%7 == 0 and i%5 == 0):\n",
        "    print (i)"
      ],
      "metadata": {
        "colab": {
          "base_uri": "https://localhost:8080/"
        },
        "id": "abvwKI4lTBM8",
        "outputId": "174a340f-fde6-488a-bf53-262c806c8519"
      },
      "execution_count": 12,
      "outputs": [
        {
          "output_type": "stream",
          "name": "stdout",
          "text": [
            "Enter 1st number: 1499\n",
            "Enter 2nd number2701\n",
            "1505\n",
            "1540\n",
            "1575\n",
            "1610\n",
            "1645\n",
            "1680\n",
            "1715\n",
            "1750\n",
            "1785\n",
            "1820\n",
            "1855\n",
            "1890\n",
            "1925\n",
            "1960\n",
            "1995\n",
            "2030\n",
            "2065\n",
            "2100\n",
            "2135\n",
            "2170\n",
            "2205\n",
            "2240\n",
            "2275\n",
            "2310\n",
            "2345\n",
            "2380\n",
            "2415\n",
            "2450\n",
            "2485\n",
            "2520\n",
            "2555\n",
            "2590\n",
            "2625\n",
            "2660\n",
            "2695\n"
          ]
        }
      ]
    },
    {
      "cell_type": "code",
      "source": [
        ""
      ],
      "metadata": {
        "id": "BM0r8IlzUPXD"
      },
      "execution_count": null,
      "outputs": []
    },
    {
      "cell_type": "markdown",
      "source": [
        "### **2.  Write a Python program to convert temperatures to and from celsius, fahrenheit.**\n",
        "[ Formula : c/5 = f-32/9 [ where c = temperature in celsius and f = temperature in fahrenheit ]\n",
        "### **Expected Output :**\n",
        "### **60°C is 140 in Fahrenheit**\n",
        "### **45°F is 7 in Celsius**"
      ],
      "metadata": {
        "id": "PqZ0695aWdGD"
      }
    },
    {
      "cell_type": "code",
      "source": [
        "def conversion_menu():\n",
        "  print (\"1. Celcius to Fahrenheit\")\n",
        "  print (\"2. Fahrenheit to Celcius\")\n",
        "\n",
        "def c_f():\n",
        "  c = float(input(\"Enter temperature in celcius \"))\n",
        "  f = float(c * 1.8 + 32) \n",
        "  print (\"{1} degrees celcius is {0}\".format(f,c), \"degrees fahrenheit\")\n",
        "\n",
        "def f_c():\n",
        "  f = float(input(\"Enter temperature in fahrenheit \"))\n",
        "  c = float(f - 32 * 1.8) \n",
        "  print (\"{1} degrees fahrenheit is {0}\".format(f,c), \"degrees celcius\")\n",
        "\n",
        "conversion_menu() \n",
        "\n",
        "option = input(\"Choose one option (1/2): \")\n",
        "\n",
        "if option == \"1\":\n",
        "  c_f()\n",
        "if option == \"2\":\n",
        "  f_c()"
      ],
      "metadata": {
        "colab": {
          "base_uri": "https://localhost:8080/"
        },
        "id": "gKXE2MH0fM2P",
        "outputId": "a23b3d5b-6858-4fe9-c70d-5ee331c41057"
      },
      "execution_count": 46,
      "outputs": [
        {
          "output_type": "stream",
          "name": "stdout",
          "text": [
            "1. Celcius to Fahrenheit\n",
            "2. Fahrenheit to Celcius\n",
            "Choose one option (1/2): 1\n",
            "Enter temperature in celcius 34\n",
            "34.0 degrees celcius is 93.2 degrees fahrenheit\n"
          ]
        }
      ]
    }
  ]
}