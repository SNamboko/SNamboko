{
  "nbformat": 4,
  "nbformat_minor": 0,
  "metadata": {
    "colab": {
      "name": "Day 2 :Variables in Python",
      "provenance": [],
      "collapsed_sections": [],
      "authorship_tag": "ABX9TyPSZY4Z2MMoa3fw3bGHs0oc",
      "include_colab_link": true
    },
    "kernelspec": {
      "name": "python3",
      "display_name": "Python 3"
    },
    "language_info": {
      "name": "python"
    }
  },
  "cells": [
    {
      "cell_type": "markdown",
      "metadata": {
        "id": "view-in-github",
        "colab_type": "text"
      },
      "source": [
        "<a href=\"https://colab.research.google.com/github/SNamboko/SNamboko/blob/main/Day_2_Variables_in_Python.ipynb\" target=\"_parent\"><img src=\"https://colab.research.google.com/assets/colab-badge.svg\" alt=\"Open In Colab\"/></a>"
      ]
    },
    {
      "cell_type": "code",
      "execution_count": 1,
      "metadata": {
        "colab": {
          "base_uri": "https://localhost:8080/"
        },
        "id": "5LrF3tis1ijx",
        "outputId": "7b3dd4aa-ebf1-428d-ebd1-d99eed1b5ecc"
      },
      "outputs": [
        {
          "output_type": "stream",
          "name": "stdout",
          "text": [
            "Sandra Mamai\n"
          ]
        }
      ],
      "source": [
        "print (\"Sandra Mamai\")"
      ]
    },
    {
      "cell_type": "code",
      "source": [
        "first_name = \"James\" \n",
        "middle_name = \"Njenga\" \n",
        "last_name = \"Mbugua\" \n",
        "print (first_name+\" \"+last_name) "
      ],
      "metadata": {
        "colab": {
          "base_uri": "https://localhost:8080/"
        },
        "id": "2JlBBhSkADRv",
        "outputId": "17f1182c-25e8-4f40-dda1-ef51c0dfc04e"
      },
      "execution_count": 5,
      "outputs": [
        {
          "output_type": "stream",
          "name": "stdout",
          "text": [
            "James Mbugua\n"
          ]
        }
      ]
    },
    {
      "cell_type": "code",
      "source": [
        "a=first_name\n",
        "b=middle_name\n",
        "c=last_name\n",
        "print (a+\" \"+b+\" \"+c)"
      ],
      "metadata": {
        "colab": {
          "base_uri": "https://localhost:8080/"
        },
        "id": "UQdwT-_ZBWXu",
        "outputId": "0c70a167-eba8-4060-eb81-8cbcf7f97f3a"
      },
      "execution_count": 13,
      "outputs": [
        {
          "output_type": "stream",
          "name": "stdout",
          "text": [
            "James Njenga Mbugua\n"
          ]
        }
      ]
    },
    {
      "cell_type": "code",
      "source": [
        "a=first_name\n",
        "b=middle_name\n",
        "c=last_name\n",
        "full_name=a+\" \"+b+\" \"+c\n",
        "print (full_name)"
      ],
      "metadata": {
        "colab": {
          "base_uri": "https://localhost:8080/"
        },
        "outputId": "ed9ae70b-5328-4778-8e5c-37aa3e0d0c04",
        "id": "R4K2-y2SC1QF"
      },
      "execution_count": 15,
      "outputs": [
        {
          "output_type": "stream",
          "name": "stdout",
          "text": [
            "James Njenga Mbugua\n"
          ]
        }
      ]
    },
    {
      "cell_type": "code",
      "source": [
        "verb = \" sings\"\n",
        "first_name+verb"
      ],
      "metadata": {
        "colab": {
          "base_uri": "https://localhost:8080/",
          "height": 35
        },
        "id": "wXmFNzWeDP0p",
        "outputId": "f5e0c5a5-3baa-4dff-c074-863501d1f8d1"
      },
      "execution_count": 24,
      "outputs": [
        {
          "output_type": "execute_result",
          "data": {
            "text/plain": [
              "'James sings'"
            ],
            "application/vnd.google.colaboratory.intrinsic+json": {
              "type": "string"
            }
          },
          "metadata": {},
          "execution_count": 24
        }
      ]
    },
    {
      "cell_type": "code",
      "source": [
        "determiner = \" in a \"\n",
        "place = \"church.\"\n",
        "print (a + verb + determiner + place)"
      ],
      "metadata": {
        "colab": {
          "base_uri": "https://localhost:8080/"
        },
        "id": "qL2raO0fFBg5",
        "outputId": "d39922d0-6ea4-4b48-8d17-41005e703ca0"
      },
      "execution_count": 26,
      "outputs": [
        {
          "output_type": "stream",
          "name": "stdout",
          "text": [
            "James sings in a church.\n"
          ]
        }
      ]
    },
    {
      "cell_type": "code",
      "source": [
        "name = \"SANDRA\"\n",
        "name [0]"
      ],
      "metadata": {
        "colab": {
          "base_uri": "https://localhost:8080/",
          "height": 35
        },
        "id": "dVMQgR-tG63Y",
        "outputId": "904c87d6-58b4-43ba-9b9a-f78a5be0d902"
      },
      "execution_count": 27,
      "outputs": [
        {
          "output_type": "execute_result",
          "data": {
            "text/plain": [
              "'S'"
            ],
            "application/vnd.google.colaboratory.intrinsic+json": {
              "type": "string"
            }
          },
          "metadata": {},
          "execution_count": 27
        }
      ]
    },
    {
      "cell_type": "code",
      "source": [
        "name [-6]"
      ],
      "metadata": {
        "colab": {
          "base_uri": "https://localhost:8080/",
          "height": 35
        },
        "id": "IPGXtJPcIFgm",
        "outputId": "8654b180-8010-454b-819f-ece7592fab65"
      },
      "execution_count": 33,
      "outputs": [
        {
          "output_type": "execute_result",
          "data": {
            "text/plain": [
              "'S'"
            ],
            "application/vnd.google.colaboratory.intrinsic+json": {
              "type": "string"
            }
          },
          "metadata": {},
          "execution_count": 33
        }
      ]
    },
    {
      "cell_type": "code",
      "source": [
        "nick_name = name[0:4] + \"Y\"\n",
        "nick_name"
      ],
      "metadata": {
        "colab": {
          "base_uri": "https://localhost:8080/",
          "height": 35
        },
        "id": "66dSqR_5Hec_",
        "outputId": "6f327815-c0ed-4e6d-ef11-a992bd079a13"
      },
      "execution_count": 34,
      "outputs": [
        {
          "output_type": "execute_result",
          "data": {
            "text/plain": [
              "'SANDY'"
            ],
            "application/vnd.google.colaboratory.intrinsic+json": {
              "type": "string"
            }
          },
          "metadata": {},
          "execution_count": 34
        }
      ]
    },
    {
      "cell_type": "code",
      "source": [
        "len (nick_name)"
      ],
      "metadata": {
        "colab": {
          "base_uri": "https://localhost:8080/"
        },
        "id": "Y91zGZfCJZUo",
        "outputId": "2b2dbf83-e9ae-46d2-c927-19ee2cab3e49"
      },
      "execution_count": 35,
      "outputs": [
        {
          "output_type": "execute_result",
          "data": {
            "text/plain": [
              "5"
            ]
          },
          "metadata": {},
          "execution_count": 35
        }
      ]
    }
  ]
}